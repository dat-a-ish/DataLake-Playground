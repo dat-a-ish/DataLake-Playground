{
 "cells": [
  {
   "cell_type": "code",
   "execution_count": 7,
   "id": "6b320568-a969-46db-85f5-13a5e67c40a5",
   "metadata": {},
   "outputs": [],
   "source": [
    "from pyspark.sql import SparkSession"
   ]
  },
  {
   "cell_type": "code",
   "execution_count": 8,
   "id": "f8f2e568-b8f0-4580-8bf6-73c59f6899ad",
   "metadata": {},
   "outputs": [],
   "source": [
    "url = \"http://catalog:19121/api/v1\"\n",
    "full_path_to_warehouse = 's3://warehouse'\n",
    "ref = \"main\"\n",
    "auth_type = \"NONE\""
   ]
  },
  {
   "cell_type": "code",
   "execution_count": 9,
   "id": "011d63ab-fc85-4011-a5bd-3a75ee5cc30b",
   "metadata": {},
   "outputs": [],
   "source": [
    "spark = SparkSession.builder \\\n",
    "        .appName(\"PySpark Job with localhost:7077\") \\\n",
    "        .master(\"spark://spark:7077\") \\\n",
    "        .config(\"spark.jars\", \"/opt/spark/jars/iceberg-spark-runtime-3.5_2.12-1.5.2.jar,/opt/spark/jars/nessie-spark-extensions-3.5_2.12-0.99.0.jar,/opt/spark/jars/bundle-2.20.131.jar,/opt/spark/jars/url-connection-client-2.20.131.jar\") \\\n",
    "        .config(\"spark.sql.extensions\", \"org.apache.iceberg.spark.extensions.IcebergSparkSessionExtensions,org.projectnessie.spark.extensions.NessieSparkSessionExtensions\") \\\n",
    "        .config(\"spark.sql.catalog.spark_catalog\", \"org.apache.iceberg.spark.SparkSessionCatalog\") \\\n",
    "        .config(\"spark.sql.catalog.nessie.uri\", \"http://catalog:19120/api/v1\") \\\n",
    "        .config(\"spark.sql.catalog.nessie.authentication.type\", auth_type) \\\n",
    "        .config(\"spark.sql.catalog.nessie.catalog-impl\", \"org.apache.iceberg.nessie.NessieCatalog\") \\\n",
    "        .config(\"spark.sql.catalog.nessie.io-impl\", \"org.apache.iceberg.aws.s3.S3FileIO\") \\\n",
    "        .config(\"spark.sql.catalog.nessie.warehouse\", full_path_to_warehouse) \\\n",
    "        .config(\"spark.sql.catalog.nessie.cache-enabled\", \"false\") \\\n",
    "        .config(\"spark.sql.catalog.nessie\", \"org.apache.iceberg.spark.SparkCatalog\") \\\n",
    "        .config(\"spark.sql.catalog.nessie.s3.endpoint\", \"http://storage:9000\") \\\n",
    "        .config(\"spark.sql.catalog.nessie.s3.path-style-access\", \"true\") \\\n",
    "        .config(\"spark.sql.catalog.nessie.s3.region\", \"us-east-1\") \\\n",
    "        .config(\"spark.sql.catalog.nessie.s3.access-key\", \"admin\") \\\n",
    "        .config(\"spark.sql.catalog.nessie.s3.secret-key\", \"password\") \\\n",
    "        .config(\"spark.hadoop.fs.s3a.access.key\", \"admin\") \\\n",
    "        .config(\"spark.hadoop.fs.s3a.secret.key\", \"password\") \\\n",
    "        .getOrCreate()"
   ]
  },
  {
   "cell_type": "code",
   "execution_count": 10,
   "id": "41f57d7f-d738-43ef-9593-0360181b6d15",
   "metadata": {},
   "outputs": [
    {
     "name": "stderr",
     "output_type": "stream",
     "text": [
      "[Stage 0:>                                                          (0 + 1) / 1]\r"
     ]
    },
    {
     "name": "stdout",
     "output_type": "stream",
     "text": [
      "+---+-----+-------------------+\n",
      "| id| name|          timestamp|\n",
      "+---+-----+-------------------+\n",
      "|  1|Alice|2024-11-10 12:00:00|\n",
      "|  2|  Bob|2024-11-10 13:00:00|\n",
      "+---+-----+-------------------+\n",
      "\n"
     ]
    },
    {
     "name": "stderr",
     "output_type": "stream",
     "text": [
      "                                                                                \r"
     ]
    }
   ],
   "source": [
    "query = \"\"\"select * from nessie.test_schema.test_table \"\"\"\n",
    "df = spark.sql(query)\n",
    "df.show()"
   ]
  },
  {
   "cell_type": "code",
   "execution_count": 6,
   "id": "108a6e8a-35e5-46ef-9e24-91f36a539eca",
   "metadata": {},
   "outputs": [],
   "source": [
    "spark.stop()"
   ]
  }
 ],
 "metadata": {
  "kernelspec": {
   "display_name": "Python 3.11",
   "language": "python",
   "name": "python3.11"
  },
  "language_info": {
   "codemirror_mode": {
    "name": "ipython",
    "version": 3
   },
   "file_extension": ".py",
   "mimetype": "text/x-python",
   "name": "python",
   "nbconvert_exporter": "python",
   "pygments_lexer": "ipython3",
   "version": "3.11.10"
  }
 },
 "nbformat": 4,
 "nbformat_minor": 5
}
